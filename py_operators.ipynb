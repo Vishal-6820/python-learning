{
 "cells": [
  {
   "cell_type": "code",
   "execution_count": 1,
   "id": "35f734f3-1995-4344-b6ba-cee3f996d416",
   "metadata": {},
   "outputs": [
    {
     "name": "stdin",
     "output_type": "stream",
     "text": [
      "Enter Age 19\n"
     ]
    },
    {
     "name": "stdout",
     "output_type": "stream",
     "text": [
      "Mid Age\n"
     ]
    }
   ],
   "source": [
    "age = int(input(\"Enter Age\"))\n",
    "if age>18 and age<35 :\n",
    "    print(\"Mid Age\")"
   ]
  },
  {
   "cell_type": "code",
   "execution_count": 3,
   "id": "a7296b74-6128-4649-bca6-d31184a35fc9",
   "metadata": {},
   "outputs": [
    {
     "name": "stdin",
     "output_type": "stream",
     "text": [
      "Enter Age 13\n"
     ]
    },
    {
     "name": "stdout",
     "output_type": "stream",
     "text": [
      "Mid Age\n"
     ]
    }
   ],
   "source": [
    "age = int(input(\"Enter Age\"))\n",
    "if age<18 or age>=35 :\n",
    "    print(\"Mid Age\")"
   ]
  },
  {
   "cell_type": "markdown",
   "id": "f46dcd87-2d71-4151-8144-fe76180b5b7b",
   "metadata": {},
   "source": [
    "# Equality opertors\n",
    "# Arithmatic Operators\n"
   ]
  }
 ],
 "metadata": {
  "kernelspec": {
   "display_name": "Python [conda env:base] *",
   "language": "python",
   "name": "conda-base-py"
  },
  "language_info": {
   "codemirror_mode": {
    "name": "ipython",
    "version": 3
   },
   "file_extension": ".py",
   "mimetype": "text/x-python",
   "name": "python",
   "nbconvert_exporter": "python",
   "pygments_lexer": "ipython3",
   "version": "3.13.5"
  },
  "widgets": {
   "application/vnd.jupyter.widget-state+json": {
    "state": {},
    "version_major": 2,
    "version_minor": 0
   }
  }
 },
 "nbformat": 4,
 "nbformat_minor": 5
}
