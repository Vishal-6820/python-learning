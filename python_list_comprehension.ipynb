{
 "cells": [
  {
   "cell_type": "markdown",
   "id": "d250ed79-a380-4dcd-b6e7-7df82cdfa10b",
   "metadata": {},
   "source": [
    "# Python List Comprehensions"
   ]
  },
  {
   "cell_type": "code",
   "execution_count": 1,
   "id": "cfb0af5b-784a-41cb-916e-266b80d903fe",
   "metadata": {},
   "outputs": [
    {
     "data": {
      "text/plain": [
       "list"
      ]
     },
     "execution_count": 1,
     "metadata": {},
     "output_type": "execute_result"
    }
   ],
   "source": [
    "type([1,2,3,4,5,6,7])"
   ]
  },
  {
   "cell_type": "code",
   "execution_count": 2,
   "id": "19de6271-561d-47ea-8492-cf2fb7c7be17",
   "metadata": {},
   "outputs": [
    {
     "name": "stdout",
     "output_type": "stream",
     "text": [
      "[0, 1, 2, 3, 4, 5, 6, 7]\n"
     ]
    }
   ],
   "source": [
    "lst= []\n",
    "\n",
    "for i in range(0,8):\n",
    "    lst.append(i)\n",
    "print(lst)    \n"
   ]
  },
  {
   "cell_type": "code",
   "execution_count": 4,
   "id": "09d9c40a-2cf3-499d-b2d4-f8703fcb8f80",
   "metadata": {},
   "outputs": [
    {
     "name": "stdout",
     "output_type": "stream",
     "text": [
      "[1, 4, 9, 16, 25, 36, 49]\n"
     ]
    }
   ],
   "source": [
    "lst1 = [1,2,3,4,5,6,7]\n",
    "lst2=[]\n",
    "\n",
    "for i in lst1:\n",
    "    lst2.append(i**2)\n",
    "\n",
    "print(lst2)"
   ]
  },
  {
   "cell_type": "code",
   "execution_count": 6,
   "id": "a5ee1ecf-3028-4a8b-af8d-6270dc6288de",
   "metadata": {},
   "outputs": [
    {
     "name": "stdout",
     "output_type": "stream",
     "text": [
      "[1, 8, 27, 64, 125, 216, 343]\n"
     ]
    }
   ],
   "source": [
    "numbers = [1,2,3,4,5,6,7]\n",
    "squares_number = [i**3 for i in numbers]\n",
    "print(squares_number)"
   ]
  },
  {
   "cell_type": "code",
   "execution_count": 8,
   "id": "428d0cde-4c07-4f20-8425-95a522d42186",
   "metadata": {},
   "outputs": [
    {
     "name": "stdout",
     "output_type": "stream",
     "text": [
      "[2, 4, 6, 8, 10]\n"
     ]
    }
   ],
   "source": [
    "# filtering even numbers from alist\n",
    "numbers = [1,2,3,4,5,6,7,8,9,10]\n",
    "even_numbers = [n for n in numbers if n%2 == 0]\n",
    "print(even_numbers)"
   ]
  },
  {
   "cell_type": "code",
   "execution_count": 10,
   "id": "040824d4-eaba-4952-a29c-3f6fa920a2a0",
   "metadata": {},
   "outputs": [
    {
     "name": "stdout",
     "output_type": "stream",
     "text": [
      "[1, 2, 3, 4, 5, 6, 7, 8, 9]\n"
     ]
    }
   ],
   "source": [
    "# flatening a list of lists : 2 for loop\n",
    "lists = [[1,2,3], [4,5,6],[7,8,9]]\n",
    "flatten_list = [item for sublist in lists for item in sublist]\n",
    "print(flatten_list)"
   ]
  },
  {
   "cell_type": "code",
   "execution_count": 11,
   "id": "18fc6969-8e58-4ab1-9c70-b64459198513",
   "metadata": {},
   "outputs": [
    {
     "name": "stdout",
     "output_type": "stream",
     "text": [
      "['a', 'b', 'c', 'd']\n"
     ]
    }
   ],
   "source": [
    "# generating a list of the first letters of words in a list.\n",
    "words = ['apple', 'banana', 'cherry', 'date']\n",
    "first_letters = [word[0] for word in words]\n",
    "print(first_letters)"
   ]
  },
  {
   "cell_type": "code",
   "execution_count": 13,
   "id": "d1280c9e-064b-4259-9951-d3c4c29823c5",
   "metadata": {},
   "outputs": [
    {
     "data": {
      "text/plain": [
       "[4, 16, 36, 64, 100]"
      ]
     },
     "execution_count": 13,
     "metadata": {},
     "output_type": "execute_result"
    }
   ],
   "source": [
    "# Generatinf list of the squares of even numbers\n",
    "numbers = [1,2,3,4,5,6,7,8,9,10]\n",
    "[n**2 for n in numbers if n%2 == 0]"
   ]
  },
  {
   "cell_type": "code",
   "execution_count": 14,
   "id": "f107951f-5f09-42c7-913a-a6ac5f7d4190",
   "metadata": {},
   "outputs": [
    {
     "data": {
      "text/plain": [
       "[1, 2, 3, 4]"
      ]
     },
     "execution_count": 14,
     "metadata": {},
     "output_type": "execute_result"
    }
   ],
   "source": [
    "# converting a list of strings to  a list of integers\n",
    "strings = ['1','2','3','4']\n",
    "[int(s) for s in strings]"
   ]
  },
  {
   "cell_type": "code",
   "execution_count": 15,
   "id": "04fb0082-8054-42f9-8af3-efe4458fe8ea",
   "metadata": {},
   "outputs": [
    {
     "data": {
      "text/plain": [
       "[1,\n",
       " 2,\n",
       " 3,\n",
       " 5,\n",
       " 8,\n",
       " 13,\n",
       " 21,\n",
       " 34,\n",
       " 55,\n",
       " 89,\n",
       " 144,\n",
       " 233,\n",
       " 377,\n",
       " 610,\n",
       " 987,\n",
       " 1597,\n",
       " 2584,\n",
       " 4181,\n",
       " 6765]"
      ]
     },
     "execution_count": 15,
     "metadata": {},
     "output_type": "execute_result"
    }
   ],
   "source": [
    "# Generating a list of the fibonacci sequance using a list comprehension\n",
    "fib = [0,1,1,2,3,5,8,13,21,34,55,89,144,233,377,610,987,1597,2584,4181,6755]\n",
    "\n",
    "[fib[i-1] + fib[i-2] for i in range(2, len(fib))]"
   ]
  },
  {
   "cell_type": "code",
   "execution_count": 2,
   "id": "9720c316-a44b-4747-b0ad-c8ade7e0539d",
   "metadata": {},
   "outputs": [
    {
     "data": {
      "text/plain": [
       "[1, 2, 3, 4, 6, 9, 12, 18, 36]"
      ]
     },
     "execution_count": 2,
     "metadata": {},
     "output_type": "execute_result"
    }
   ],
   "source": [
    "# Generating a list of all the divisors of a number\n",
    "\n",
    "numbers = 36\n",
    "[i for i in range(1,numbers+1) if numbers%i == 0]"
   ]
  },
  {
   "cell_type": "code",
   "execution_count": 5,
   "id": "ef80f88d-65db-4610-8c16-260d8660da26",
   "metadata": {},
   "outputs": [
    {
     "name": "stdout",
     "output_type": "stream",
     "text": [
      "[2, 3, 5, 7, 11, 13, 17, 19, 23, 29, 31, 37, 41, 43, 47]\n"
     ]
    }
   ],
   "source": [
    "# Generating a list of all prime numbers less than a given number \n",
    "def is_prime(n):\n",
    "    return all(n % i != 0 for i in range(2, int(n**0.5) + 1)) if n > 1 else False\n",
    "\n",
    "num = 50\n",
    "primes = [i for i in range(2, num) if is_prime(i)]\n",
    "print(primes)\n"
   ]
  },
  {
   "cell_type": "code",
   "execution_count": null,
   "id": "99588514-9180-4005-919d-c6961ad81d57",
   "metadata": {},
   "outputs": [],
   "source": []
  }
 ],
 "metadata": {
  "kernelspec": {
   "display_name": "Python [conda env:base] *",
   "language": "python",
   "name": "conda-base-py"
  },
  "language_info": {
   "codemirror_mode": {
    "name": "ipython",
    "version": 3
   },
   "file_extension": ".py",
   "mimetype": "text/x-python",
   "name": "python",
   "nbconvert_exporter": "python",
   "pygments_lexer": "ipython3",
   "version": "3.13.5"
  },
  "widgets": {
   "application/vnd.jupyter.widget-state+json": {
    "state": {},
    "version_major": 2,
    "version_minor": 0
   }
  }
 },
 "nbformat": 4,
 "nbformat_minor": 5
}
