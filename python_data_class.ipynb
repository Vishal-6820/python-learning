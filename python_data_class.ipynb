{
 "cells": [
  {
   "cell_type": "markdown",
   "id": "d3f85d86-3b77-41ba-8ae3-ff4f0d3bc9ea",
   "metadata": {},
   "source": [
    "# Python Data Classes\n",
    "In Python, the dataclass decorator is a feature introduced in Python 3.7 that provides a concise way to define classes primarily intended to store data. It automatically generates several special methods, such as init, repr, and eq, based on the class attributes you define. This simplifies the process of creating and working with data-focused classes.\n",
    "\n"
   ]
  },
  {
   "cell_type": "code",
   "execution_count": 1,
   "id": "69e96826-2307-4572-9205-b51151b37a2d",
   "metadata": {},
   "outputs": [],
   "source": [
    "from dataclasses import dataclass\n",
    "\n",
    "@dataclass\n",
    "class Person:\n",
    "    name:str\n",
    "    age:int\n",
    "    profession:str\n"
   ]
  },
  {
   "cell_type": "markdown",
   "id": "c60f4c46-9ec0-4fcb-8436-ac73cb30f514",
   "metadata": {},
   "source": [
    "The @dataclass decorator automatically generates the following for you:\n",
    "\n",
    "_init_(): Initialize the object and assigns the provided values to the attributes.\n",
    "_repr_(): Provides string representation of the object.\n",
    "__eq__(): Implements equality comparison between two objects of the class based on their attributes. "
   ]
  },
  {
   "cell_type": "code",
   "execution_count": 2,
   "id": "68cd335a-acb7-4daf-bdab-d378995e0b90",
   "metadata": {},
   "outputs": [
    {
     "data": {
      "text/plain": [
       "'Vishal'"
      ]
     },
     "execution_count": 2,
     "metadata": {},
     "output_type": "execute_result"
    }
   ],
   "source": [
    "  person1 = Person(\"Vishal\", '26', \"SDE\")\n",
    "person1.name"
   ]
  },
  {
   "cell_type": "code",
   "execution_count": 3,
   "id": "e05edd4f-e940-4d54-898a-44596a1a9a59",
   "metadata": {},
   "outputs": [],
   "source": [
    "@dataclass\n",
    "class Rectangle :\n",
    "    width:int\n",
    "    height:int\n",
    "    color:str='white'\n",
    "\n",
    "ractangle1 = Rectangle(15,18)\n",
    "ractangle2 = Rectangle(20,22,'red')"
   ]
  },
  {
   "cell_type": "code",
   "execution_count": 4,
   "id": "b371de97-8f4c-45a8-ab2d-a318bff16f3a",
   "metadata": {},
   "outputs": [
    {
     "data": {
      "text/plain": [
       "'red'"
      ]
     },
     "execution_count": 4,
     "metadata": {},
     "output_type": "execute_result"
    }
   ],
   "source": [
    "ractangle2.color"
   ]
  },
  {
   "cell_type": "code",
   "execution_count": 5,
   "id": "af3b4979-1008-492e-a072-621256dfa0a2",
   "metadata": {},
   "outputs": [
    {
     "data": {
      "text/plain": [
       "'white'"
      ]
     },
     "execution_count": 5,
     "metadata": {},
     "output_type": "execute_result"
    }
   ],
   "source": [
    "ractangle1.color"
   ]
  },
  {
   "cell_type": "code",
   "execution_count": 14,
   "id": "bdcdb790-0acc-4ec7-97fc-16393c2740d7",
   "metadata": {},
   "outputs": [],
   "source": [
    "@dataclass(frozen=True)\n",
    "class Point:\n",
    "    x:int\n",
    "    y:int\n",
    "    \n",
    "    \n"
   ]
  },
  {
   "cell_type": "code",
   "execution_count": 15,
   "id": "fb46dad3-ac04-4365-9e93-d2eea1ec023a",
   "metadata": {},
   "outputs": [],
   "source": [
    "point = Point(3,4)"
   ]
  },
  {
   "cell_type": "code",
   "execution_count": 16,
   "id": "73e3fc88-2b4c-482d-a961-ec37d6bcb19b",
   "metadata": {},
   "outputs": [
    {
     "data": {
      "text/plain": [
       "3"
      ]
     },
     "execution_count": 16,
     "metadata": {},
     "output_type": "execute_result"
    }
   ],
   "source": [
    "point.x"
   ]
  },
  {
   "cell_type": "code",
   "execution_count": 17,
   "id": "c4598477-963a-473e-b115-b0b26296de25",
   "metadata": {},
   "outputs": [
    {
     "ename": "FrozenInstanceError",
     "evalue": "cannot assign to field 'x'",
     "output_type": "error",
     "traceback": [
      "\u001b[1;31m---------------------------------------------------------------------------\u001b[0m",
      "\u001b[1;31mFrozenInstanceError\u001b[0m                       Traceback (most recent call last)",
      "Cell \u001b[1;32mIn[17], line 1\u001b[0m\n\u001b[1;32m----> 1\u001b[0m point\u001b[38;5;241m.\u001b[39mx\u001b[38;5;241m=\u001b[39m\u001b[38;5;241m14\u001b[39m\n",
      "File \u001b[1;32m<string>:16\u001b[0m, in \u001b[0;36m__setattr__\u001b[1;34m(self, name, value)\u001b[0m\n",
      "\u001b[1;31mFrozenInstanceError\u001b[0m: cannot assign to field 'x'"
     ]
    }
   ],
   "source": [
    "point.x=14"
   ]
  },
  {
   "cell_type": "code",
   "execution_count": 41,
   "id": "293e943c-998e-4ad9-820a-83c33c08b1d7",
   "metadata": {},
   "outputs": [],
   "source": [
    "# inheriance\n",
    "\n",
    "@dataclass\n",
    "class Person:\n",
    "    name: str\n",
    "    age: int\n",
    "\n",
    "@dataclass\n",
    "class Employee(Person):\n",
    "    emp_id: str\n",
    "    dept: str\n",
    "\n",
    "# @dataclass\n",
    "# class Person:\n",
    "#     name:str\n",
    "#     age:int\n",
    "\n",
    "\n",
    "# @dataclass\n",
    "# class Employee(Person):\n",
    "#     employee_id = str\n",
    "#     department = str\n",
    "    "
   ]
  },
  {
   "cell_type": "code",
   "execution_count": 42,
   "id": "640a6bff-b9d8-452c-896f-9cbd7174bdf0",
   "metadata": {},
   "outputs": [],
   "source": [
    "# Now this works:\n",
    "person = Person(\"Vishal\", 26)\n",
    "employee = Employee(\"Vishal\",26, \"F123\", \"AI\")\n"
   ]
  },
  {
   "cell_type": "code",
   "execution_count": 43,
   "id": "fc5e36c9-4991-44da-9759-268dde88568c",
   "metadata": {},
   "outputs": [
    {
     "name": "stdout",
     "output_type": "stream",
     "text": [
      "Person(name='Vishal', age=26)\n",
      "Employee(name='Vishal', age=26, emp_id='F123', dept='AI')\n"
     ]
    }
   ],
   "source": [
    "print(person)\n",
    "print(employee)\n"
   ]
  },
  {
   "cell_type": "code",
   "execution_count": 44,
   "id": "5a448d06-11e5-4fef-b19b-3627595f408e",
   "metadata": {},
   "outputs": [],
   "source": [
    "# Nested Dataclasses\n",
    "\n",
    "@dataclass\n",
    "class Address:\n",
    "    street:str\n",
    "    city:str\n",
    "    zipcode:str\n",
    "\n",
    "@dataclass\n",
    "class Person:\n",
    "    name:str\n",
    "    age:str\n",
    "    address:Address\n",
    "    "
   ]
  },
  {
   "cell_type": "code",
   "execution_count": 45,
   "id": "70def111-1d36-4852-b251-cba8d7a55595",
   "metadata": {},
   "outputs": [
    {
     "data": {
      "text/plain": [
       "Address(street='4 B Gayatri Soc', city='Vijapur', zipcode='382870')"
      ]
     },
     "execution_count": 45,
     "metadata": {},
     "output_type": "execute_result"
    }
   ],
   "source": [
    "address = Address('4 B Gayatri Soc', 'Vijapur', '382870')\n",
    "person = Person(\"Vishal\",\"26\",address)\n",
    "\n",
    "person.address"
   ]
  },
  {
   "cell_type": "code",
   "execution_count": null,
   "id": "b2c11bbb-4118-4c94-b1a6-696a425a80b0",
   "metadata": {},
   "outputs": [],
   "source": []
  }
 ],
 "metadata": {
  "kernelspec": {
   "display_name": "Python [conda env:base] *",
   "language": "python",
   "name": "conda-base-py"
  },
  "language_info": {
   "codemirror_mode": {
    "name": "ipython",
    "version": 3
   },
   "file_extension": ".py",
   "mimetype": "text/x-python",
   "name": "python",
   "nbconvert_exporter": "python",
   "pygments_lexer": "ipython3",
   "version": "3.13.5"
  },
  "widgets": {
   "application/vnd.jupyter.widget-state+json": {
    "state": {},
    "version_major": 2,
    "version_minor": 0
   }
  }
 },
 "nbformat": 4,
 "nbformat_minor": 5
}
