{
 "cells": [
  {
   "cell_type": "markdown",
   "id": "d4758042-4cb1-4357-9cd5-c30717e4631c",
   "metadata": {},
   "source": [
    "# Lambda function in python\n",
    "\n",
    "In Python, a lambda function (also called an anonymous function) is a small, anonymous function that can be defined in a single line of code without a name. It is useful when we need a simple function that we don't want to define explicitly using the def keyword. The basic syntax for a lambda function in Python is:\n",
    "\n",
    "lambda arguments: expression\n",
    "Here, arguments refer to the input arguments for the function and expression is a single expression that gets evaluated and returned as the result of the function. The result of the expression is automatically returned by the lambda function, so there's no need to use the return statement.\n",
    "\n",
    "\n",
    "\n"
   ]
  },
  {
   "cell_type": "code",
   "execution_count": 1,
   "id": "6c288116-74cf-4d75-a194-ea3e2dd84e23",
   "metadata": {},
   "outputs": [
    {
     "data": {
      "text/plain": [
       "<function __main__.<lambda>(x, y)>"
      ]
     },
     "execution_count": 1,
     "metadata": {},
     "output_type": "execute_result"
    }
   ],
   "source": [
    "f=lambda x,y:x+y\n",
    "f"
   ]
  },
  {
   "cell_type": "code",
   "execution_count": 2,
   "id": "18b32473-8051-41b8-8aa0-5fae375962db",
   "metadata": {},
   "outputs": [
    {
     "data": {
      "text/plain": [
       "13"
      ]
     },
     "execution_count": 2,
     "metadata": {},
     "output_type": "execute_result"
    }
   ],
   "source": [
    "f(6,7)"
   ]
  },
  {
   "cell_type": "code",
   "execution_count": 3,
   "id": "382b8b1f-2a05-4086-a924-617cb6527c2e",
   "metadata": {},
   "outputs": [
    {
     "data": {
      "text/plain": [
       "45"
      ]
     },
     "execution_count": 3,
     "metadata": {},
     "output_type": "execute_result"
    }
   ],
   "source": [
    "# Simple examples\n",
    "multiply = lambda x,y:x*y\n",
    "multiply(5,9)"
   ]
  },
  {
   "cell_type": "code",
   "execution_count": 4,
   "id": "d7c1d6f1-6c33-4f79-80df-6cd118d1e52f",
   "metadata": {},
   "outputs": [
    {
     "data": {
      "text/plain": [
       "12"
      ]
     },
     "execution_count": 4,
     "metadata": {},
     "output_type": "execute_result"
    }
   ],
   "source": [
    "# Return the length of screen\n",
    "string_length = lambda s:len(s)\n",
    "string_length(\"VishalParmar\")"
   ]
  },
  {
   "cell_type": "code",
   "execution_count": 8,
   "id": "eb3eb9de-a671-482f-9567-8dde96e0cac4",
   "metadata": {},
   "outputs": [
    {
     "name": "stdout",
     "output_type": "stream",
     "text": [
      "[1, 4, 9, 16, 25, 36]\n"
     ]
    }
   ],
   "source": [
    "# convert a list of integers to their corresponding square values:\n",
    "numbers = [1,2,3,4,5,6]\n",
    "squares = list(map(lambda x:x**2, numbers))\n",
    "print(squares)"
   ]
  },
  {
   "cell_type": "code",
   "execution_count": null,
   "id": "6053eed9-9a6b-4380-a54f-80e47e124abf",
   "metadata": {},
   "outputs": [],
   "source": []
  }
 ],
 "metadata": {
  "kernelspec": {
   "display_name": "Python [conda env:base] *",
   "language": "python",
   "name": "conda-base-py"
  },
  "language_info": {
   "codemirror_mode": {
    "name": "ipython",
    "version": 3
   },
   "file_extension": ".py",
   "mimetype": "text/x-python",
   "name": "python",
   "nbconvert_exporter": "python",
   "pygments_lexer": "ipython3",
   "version": "3.13.5"
  },
  "widgets": {
   "application/vnd.jupyter.widget-state+json": {
    "state": {},
    "version_major": 2,
    "version_minor": 0
   }
  }
 },
 "nbformat": 4,
 "nbformat_minor": 5
}
