{
 "cells": [
  {
   "cell_type": "markdown",
   "id": "d4758042-4cb1-4357-9cd5-c30717e4631c",
   "metadata": {},
   "source": [
    "# Lambda function in python\n",
    "\n",
    "In Python, a lambda function (also called an anonymous function) is a small, anonymous function that can be defined in a single line of code without a name. It is useful when we need a simple function that we don't want to define explicitly using the def keyword. The basic syntax for a lambda function in Python is:\n",
    "\n",
    "lambda arguments: expression\n",
    "Here, arguments refer to the input arguments for the function and expression is a single expression that gets evaluated and returned as the result of the function. The result of the expression is automatically returned by the lambda function, so there's no need to use the return statement.\n",
    "\n",
    "\n",
    "\n"
   ]
  },
  {
   "cell_type": "code",
   "execution_count": 1,
   "id": "6c288116-74cf-4d75-a194-ea3e2dd84e23",
   "metadata": {},
   "outputs": [
    {
     "data": {
      "text/plain": [
       "<function __main__.<lambda>(x, y)>"
      ]
     },
     "execution_count": 1,
     "metadata": {},
     "output_type": "execute_result"
    }
   ],
   "source": [
    "f=lambda x,y:x+y\n",
    "f"
   ]
  },
  {
   "cell_type": "code",
   "execution_count": 2,
   "id": "18b32473-8051-41b8-8aa0-5fae375962db",
   "metadata": {},
   "outputs": [
    {
     "data": {
      "text/plain": [
       "13"
      ]
     },
     "execution_count": 2,
     "metadata": {},
     "output_type": "execute_result"
    }
   ],
   "source": [
    "f(6,7)"
   ]
  },
  {
   "cell_type": "code",
   "execution_count": 3,
   "id": "382b8b1f-2a05-4086-a924-617cb6527c2e",
   "metadata": {},
   "outputs": [
    {
     "data": {
      "text/plain": [
       "45"
      ]
     },
     "execution_count": 3,
     "metadata": {},
     "output_type": "execute_result"
    }
   ],
   "source": [
    "# Simple examples\n",
    "multiply = lambda x,y:x*y\n",
    "multiply(5,9)"
   ]
  },
  {
   "cell_type": "code",
   "execution_count": 4,
   "id": "d7c1d6f1-6c33-4f79-80df-6cd118d1e52f",
   "metadata": {},
   "outputs": [
    {
     "data": {
      "text/plain": [
       "12"
      ]
     },
     "execution_count": 4,
     "metadata": {},
     "output_type": "execute_result"
    }
   ],
   "source": [
    "# Return the length of screen\n",
    "string_length = lambda s:len(s)\n",
    "string_length(\"VishalParmar\")"
   ]
  },
  {
   "cell_type": "code",
   "execution_count": 8,
   "id": "eb3eb9de-a671-482f-9567-8dde96e0cac4",
   "metadata": {},
   "outputs": [
    {
     "name": "stdout",
     "output_type": "stream",
     "text": [
      "[1, 4, 9, 16, 25, 36]\n"
     ]
    }
   ],
   "source": [
    "# convert a list of integers to their corresponding square values:\n",
    "numbers = [1,2,3,4,5,6]\n",
    "squares = list(map(lambda x:x**2, numbers))\n",
    "print(squares)"
   ]
  },
  {
   "cell_type": "code",
   "execution_count": 12,
   "id": "6053eed9-9a6b-4380-a54f-80e47e124abf",
   "metadata": {},
   "outputs": [
    {
     "data": {
      "text/plain": [
       "[2, 4, 6]"
      ]
     },
     "execution_count": 12,
     "metadata": {},
     "output_type": "execute_result"
    }
   ],
   "source": [
    "# Filter out even numbers from a list\n",
    "\n",
    "numbers = [1,2,3,4,5,6]\n",
    "list(filter(lambda x : x%2 == 0, numbers))"
   ]
  },
  {
   "cell_type": "code",
   "execution_count": 13,
   "id": "5af5a3c9-226f-4ade-8773-171eca004844",
   "metadata": {},
   "outputs": [
    {
     "data": {
      "text/plain": [
       "False"
      ]
     },
     "execution_count": 13,
     "metadata": {},
     "output_type": "execute_result"
    }
   ],
   "source": [
    "f=lambda x:x%2==0\n",
    "f(3)"
   ]
  },
  {
   "cell_type": "code",
   "execution_count": 14,
   "id": "50c46fe1-6f6f-4e5c-929e-04891a6e03a2",
   "metadata": {},
   "outputs": [],
   "source": [
    "# sort a list of strings based on their alphabetical characters and length:\n",
    "fruits = ['apple', 'banana', 'cherry', 'date', 'elderberry']"
   ]
  },
  {
   "cell_type": "code",
   "execution_count": 16,
   "id": "ed76fe11-673b-4654-a4a7-25b3b4ca5a63",
   "metadata": {},
   "outputs": [
    {
     "data": {
      "text/plain": [
       "['date', 'apple', 'banana', 'cherry', 'elderberry']"
      ]
     },
     "execution_count": 16,
     "metadata": {},
     "output_type": "execute_result"
    }
   ],
   "source": [
    "sorted(fruits, key= lambda x:len(x))"
   ]
  },
  {
   "cell_type": "code",
   "execution_count": 17,
   "id": "88c76b0c-f8f2-42c3-a22a-d5d97fed5c7e",
   "metadata": {},
   "outputs": [],
   "source": [
    "# Complex Examples\n",
    "# Sorting a list of dictionaries based on specific key\n"
   ]
  },
  {
   "cell_type": "code",
   "execution_count": 18,
   "id": "d67d7caa-57b7-4cdb-8c1e-f5e666323421",
   "metadata": {},
   "outputs": [],
   "source": [
    "people = [\n",
    "    {\"name\":\"Alice\", \"age\":25, \"occupation\":'Engineer'},\n",
    "    {\"name\":\"Bob\", \"age\":30, \"occupation\":'Manager'},\n",
    "    {\"name\":\"Vishal\", \"age\":26, \"occupation\":'Intern'},\n",
    "    {\"name\":\"Dave\", \"age\":27, \"occupation\":'Designer'}, \n",
    "]"
   ]
  },
  {
   "cell_type": "code",
   "execution_count": 20,
   "id": "231e5b9e-ba96-476c-9000-a874984b23f7",
   "metadata": {},
   "outputs": [
    {
     "data": {
      "text/plain": [
       "[{'name': 'Alice', 'age': 25, 'occupation': 'Engineer'},\n",
       " {'name': 'Vishal', 'age': 26, 'occupation': 'Intern'},\n",
       " {'name': 'Dave', 'age': 27, 'occupation': 'Designer'},\n",
       " {'name': 'Bob', 'age': 30, 'occupation': 'Manager'}]"
      ]
     },
     "execution_count": 20,
     "metadata": {},
     "output_type": "execute_result"
    }
   ],
   "source": [
    "# sorted(people, key=lambda x:x['age'])\n",
    "sorted(people, key=lambda x:(x['age'],x['name']))"
   ]
  },
  {
   "cell_type": "code",
   "execution_count": 21,
   "id": "806f23ea-dda4-4854-a265-23d7d6a11dcd",
   "metadata": {},
   "outputs": [
    {
     "data": {
      "text/plain": [
       "'b'"
      ]
     },
     "execution_count": 21,
     "metadata": {},
     "output_type": "execute_result"
    }
   ],
   "source": [
    "# find the maximum value in dictionary\n",
    "data = {'a':10, 'b':20, 'c':5, 'd':15}\n",
    "max(data,key=lambda x:data[x])"
   ]
  },
  {
   "cell_type": "code",
   "execution_count": 22,
   "id": "728e27b6-60f7-439c-98bb-69c4a1644b57",
   "metadata": {},
   "outputs": [],
   "source": [
    "# Grouping a list of strings based on their first letter "
   ]
  },
  {
   "cell_type": "code",
   "execution_count": 23,
   "id": "54e7dbd1-d082-404e-8d26-a2e0e9fcd804",
   "metadata": {},
   "outputs": [
    {
     "name": "stdout",
     "output_type": "stream",
     "text": [
      "a ['apple']\n",
      "b ['banana']\n",
      "c ['cherry']\n",
      "d ['date']\n",
      "e ['elderberry']\n",
      "f ['fig']\n"
     ]
    }
   ],
   "source": [
    "from itertools import groupby\n",
    "\n",
    "words = ['apple', 'banana', 'cherry', 'date', 'elderberry', 'fig']\n",
    "\n",
    "groups = groupby(sorted(words), key=lambda x:x[0])\n",
    "\n",
    "for key, group in groups:\n",
    "    print(key,list(group))"
   ]
  },
  {
   "cell_type": "code",
   "execution_count": null,
   "id": "e127baed-2a32-4a3e-b521-657c5b62f314",
   "metadata": {},
   "outputs": [],
   "source": []
  }
 ],
 "metadata": {
  "kernelspec": {
   "display_name": "Python [conda env:base] *",
   "language": "python",
   "name": "conda-base-py"
  },
  "language_info": {
   "codemirror_mode": {
    "name": "ipython",
    "version": 3
   },
   "file_extension": ".py",
   "mimetype": "text/x-python",
   "name": "python",
   "nbconvert_exporter": "python",
   "pygments_lexer": "ipython3",
   "version": "3.13.5"
  },
  "widgets": {
   "application/vnd.jupyter.widget-state+json": {
    "state": {},
    "version_major": 2,
    "version_minor": 0
   }
  }
 },
 "nbformat": 4,
 "nbformat_minor": 5
}
