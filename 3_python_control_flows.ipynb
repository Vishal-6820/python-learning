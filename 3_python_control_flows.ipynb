{
 "cells": [
  {
   "cell_type": "code",
   "execution_count": 30,
   "id": "5a899d95-6de6-46f7-bc14-f12b7611f642",
   "metadata": {},
   "outputs": [
    {
     "name": "stdin",
     "output_type": "stream",
     "text": [
      "Enter the number 125\n"
     ]
    },
    {
     "name": "stdout",
     "output_type": "stream",
     "text": [
      "The number is greater than 100\n"
     ]
    }
   ],
   "source": [
    "# if statement\n",
    "val = input(\"Enter the number\")\n",
    "value_float = float(val)\n",
    "\n",
    "if(value_float > 100) :\n",
    "    print(\"The number is greater than 100\")"
   ]
  },
  {
   "cell_type": "code",
   "execution_count": 33,
   "id": "f66dfc3a-13cc-4dc9-95b1-5b76254155bc",
   "metadata": {},
   "outputs": [
    {
     "name": "stdin",
     "output_type": "stream",
     "text": [
      "Enter the number 124\n"
     ]
    },
    {
     "name": "stdout",
     "output_type": "stream",
     "text": [
      "The number is even\n"
     ]
    }
   ],
   "source": [
    "# if statement\n",
    "val = input(\"Enter the number\")\n",
    "value_float = float(val)\n",
    "\n",
    "\n",
    "if(value_float % 2 == 0) :\n",
    "    print(\"The number is even\")\n",
    "else :\n",
    "    print(\"The number is odd\")"
   ]
  },
  {
   "cell_type": "code",
   "execution_count": 37,
   "id": "6b3b4c0c-ac4f-4e14-8f7d-8047e0b4e00b",
   "metadata": {},
   "outputs": [
    {
     "name": "stdin",
     "output_type": "stream",
     "text": [
      "Enter your age 60\n"
     ]
    },
    {
     "name": "stdout",
     "output_type": "stream",
     "text": [
      "Senior Citizen\n"
     ]
    }
   ],
   "source": [
    "# Age Form\n",
    "age = float(input(\"Enter your age\"))\n",
    "\n",
    "if(age < 18 ):\n",
    "    print(\"Minor Age\")\n",
    "elif(age > 18 and age < 35):\n",
    "    print(\"Mid Age\")\n",
    "elif(age > 35 and age < 50):\n",
    "    print(\"senior min age\")\n",
    "else :\n",
    "    print(\"Senior Citizen\")\n",
    "    \n"
   ]
  },
  {
   "cell_type": "code",
   "execution_count": 39,
   "id": "277d5369-0784-43a7-917d-fbff2b20c256",
   "metadata": {},
   "outputs": [
    {
     "name": "stdout",
     "output_type": "stream",
     "text": [
      "1\n",
      "4\n",
      "9\n",
      "16\n",
      "25\n",
      "36\n",
      "49\n"
     ]
    }
   ],
   "source": [
    "# loop statement\n",
    "# for loop, while loop\n",
    "\n",
    "numArr = [1,2,3,4,5,6,7]\n",
    "\n",
    "for i in numArr :\n",
    "    print(i ** 2)\n",
    "\n"
   ]
  },
  {
   "cell_type": "code",
   "execution_count": 41,
   "id": "511f5212-48ae-487c-99dd-9b83c896d38c",
   "metadata": {},
   "outputs": [
    {
     "name": "stdout",
     "output_type": "stream",
     "text": [
      "1\n",
      "3\n",
      "6\n",
      "10\n",
      "15\n",
      "21\n",
      "28\n"
     ]
    }
   ],
   "source": [
    "numArr = [1,2,3,4,5,6,7]\n",
    "sum1 = 0\n",
    "for i in numArr :\n",
    "    sum1 = i + sum1\n",
    "\n",
    "    print(sum1)"
   ]
  },
  {
   "cell_type": "code",
   "execution_count": 42,
   "id": "7d48f371-85f7-4a30-8327-522f1173da96",
   "metadata": {},
   "outputs": [
    {
     "name": "stdout",
     "output_type": "stream",
     "text": [
      "Even sum is 12\n",
      "Odd sum is 16\n"
     ]
    }
   ],
   "source": [
    "# find the sum of even and odd number\n",
    "numArr = [1,2,3,4,5,6,7]\n",
    "\n",
    "even_sum = 0\n",
    "odd_sum = 0\n",
    "\n",
    "for i in numArr:\n",
    "    if(i%2 == 0):\n",
    "        even_sum = even_sum + i\n",
    "    else :\n",
    "        odd_sum = odd_sum + i\n",
    "\n",
    "print(\"Even sum is {}\".format(even_sum))\n",
    "print(\"Odd sum is {}\".format(odd_sum))"
   ]
  },
  {
   "cell_type": "code",
   "execution_count": 44,
   "id": "8dbf3b47-6600-4ac3-aa45-833db2815a94",
   "metadata": {},
   "outputs": [
    {
     "name": "stdout",
     "output_type": "stream",
     "text": [
      "0\n",
      "1\n",
      "2\n",
      "3\n",
      "4\n",
      "5\n",
      "6\n",
      "7\n",
      "8\n",
      "9\n"
     ]
    }
   ],
   "source": [
    "# While Condition\n",
    "i = 0\n",
    "while( i < 10):\n",
    "    print(i)\n",
    "    i = i+1"
   ]
  },
  {
   "cell_type": "code",
   "execution_count": 45,
   "id": "9fda0766-59c3-45b1-94af-72380fa92fca",
   "metadata": {},
   "outputs": [
    {
     "name": "stdout",
     "output_type": "stream",
     "text": [
      "1\n",
      "2\n",
      "3\n"
     ]
    }
   ],
   "source": [
    "# break statement\n",
    "x=1\n",
    "while(x<7):\n",
    "    if x == 4 :\n",
    "        break\n",
    "    print(x)\n",
    "    x=x+1"
   ]
  },
  {
   "cell_type": "code",
   "execution_count": 46,
   "id": "b4d8e069-e163-44cb-8b11-2086c438d57e",
   "metadata": {},
   "outputs": [
    {
     "name": "stdout",
     "output_type": "stream",
     "text": [
      "2\n",
      "3\n",
      "5\n",
      "6\n",
      "7\n"
     ]
    }
   ],
   "source": [
    "# break statement\n",
    "x=1\n",
    "while(x<7):\n",
    "    x=x+1\n",
    "    if x == 4 :\n",
    "        continue\n",
    "    print(x)\n",
    "    "
   ]
  },
  {
   "cell_type": "code",
   "execution_count": null,
   "id": "5184fa71-7144-4c93-a005-f9a55a597af7",
   "metadata": {},
   "outputs": [],
   "source": []
  }
 ],
 "metadata": {
  "kernelspec": {
   "display_name": "Python 3 (ipykernel)",
   "language": "python",
   "name": "python3"
  },
  "language_info": {
   "codemirror_mode": {
    "name": "ipython",
    "version": 3
   },
   "file_extension": ".py",
   "mimetype": "text/x-python",
   "name": "python",
   "nbconvert_exporter": "python",
   "pygments_lexer": "ipython3",
   "version": "3.13.5"
  }
 },
 "nbformat": 4,
 "nbformat_minor": 5
}
