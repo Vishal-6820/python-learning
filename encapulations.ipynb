{
 "cells": [
  {
   "cell_type": "markdown",
   "id": "4e9956c0-1bec-4987-bc08-490d937465a5",
   "metadata": {},
   "source": [
    "# Encapsulation In Python\n",
    "Encapsulation is a fundamental principle in object-oriented programming that focuses on bundling data and the methods that operate on that data into a single unit called a class. It allows you to control the access and visibility of the data and methods, providing a way to protect and organize your code\n",
    "\n"
   ]
  },
  {
   "cell_type": "code",
   "execution_count": 1,
   "id": "dfd95262-4887-4525-8529-32450a18f965",
   "metadata": {},
   "outputs": [],
   "source": [
    "# Access Modifier => Encapsulation implement\n",
    "# private\n",
    "\n",
    "class Person:\n",
    "    # constructor\n",
    "    def __init__(self,name,age):\n",
    "        self.__name = name #__ is private modifiers\n",
    "        self.__age = age\n",
    "\n",
    "    def display_info(self):\n",
    "        print(f\"the person name is {self.__name} and the age is {self.__age}\")\n"
   ]
  },
  {
   "cell_type": "code",
   "execution_count": 2,
   "id": "ccc5fd1b-56a1-491f-8461-cd92e269ad63",
   "metadata": {},
   "outputs": [
    {
     "name": "stdout",
     "output_type": "stream",
     "text": [
      "the person name is Vishal and the age is 26\n"
     ]
    }
   ],
   "source": [
    "person=Person(\"Vishal\",26)\n",
    "\n",
    "person.display_info()\n"
   ]
  },
  {
   "cell_type": "code",
   "execution_count": 3,
   "id": "47bfc83b-f8b7-4b65-a5c4-b2f4ae336f36",
   "metadata": {},
   "outputs": [],
   "source": [
    "### Access Modifier--->Encapsulation\n",
    "## Protected \n",
    "\n",
    "class Person:\n",
    "    ## constructor\n",
    "    def __init__(self,name,age):\n",
    "        self._name=name #_ protected modifiers\n",
    "        self._age=age\n"
   ]
  },
  {
   "cell_type": "code",
   "execution_count": 4,
   "id": "95d6f4bd-7b34-43f4-a27f-5d7c9a9704f4",
   "metadata": {},
   "outputs": [],
   "source": [
    "person=Person(\"Maitri\",24)"
   ]
  },
  {
   "cell_type": "code",
   "execution_count": 5,
   "id": "749bd842-8266-465c-9469-576718f196e0",
   "metadata": {},
   "outputs": [
    {
     "data": {
      "text/plain": [
       "24"
      ]
     },
     "execution_count": 5,
     "metadata": {},
     "output_type": "execute_result"
    }
   ],
   "source": [
    "dir(person)\n",
    "person._age"
   ]
  },
  {
   "cell_type": "code",
   "execution_count": 6,
   "id": "64a85aa0-ca69-4639-8d9f-8fb9d7911ca8",
   "metadata": {},
   "outputs": [],
   "source": [
    "class Student(Person):\n",
    "    def __init__(self,name,age):\n",
    "        super().__init__(name,age)\n",
    "\n",
    "    def display_info(self):\n",
    "        print(f\"the person name is {self._name} and the age is {self._age}\")\n"
   ]
  },
  {
   "cell_type": "code",
   "execution_count": 8,
   "id": "d39da87d-a4db-4eeb-bb0c-5e7fa0746fcc",
   "metadata": {},
   "outputs": [],
   "source": [
    "student1=Student(\"Vishu\",26)\n"
   ]
  },
  {
   "cell_type": "code",
   "execution_count": 9,
   "id": "032a667c-8068-4fd5-bef3-8be98498eabe",
   "metadata": {},
   "outputs": [
    {
     "name": "stdout",
     "output_type": "stream",
     "text": [
      "the person name is Vishu and the age is 26\n"
     ]
    }
   ],
   "source": [
    "student1.display_info()\n"
   ]
  },
  {
   "cell_type": "code",
   "execution_count": null,
   "id": "abd3df27-36cf-4d91-812c-a9e643661ea9",
   "metadata": {},
   "outputs": [],
   "source": [
    "## public access modifiers\n",
    "class Person:\n",
    "    ## constructor\n",
    "    def __init__(self,name,age):\n",
    "        self.name=name\n",
    "        self.age=age"
   ]
  }
 ],
 "metadata": {
  "kernelspec": {
   "display_name": "Python [conda env:base] *",
   "language": "python",
   "name": "conda-base-py"
  },
  "language_info": {
   "codemirror_mode": {
    "name": "ipython",
    "version": 3
   },
   "file_extension": ".py",
   "mimetype": "text/x-python",
   "name": "python",
   "nbconvert_exporter": "python",
   "pygments_lexer": "ipython3",
   "version": "3.13.5"
  },
  "widgets": {
   "application/vnd.jupyter.widget-state+json": {
    "state": {},
    "version_major": 2,
    "version_minor": 0
   }
  }
 },
 "nbformat": 4,
 "nbformat_minor": 5
}
