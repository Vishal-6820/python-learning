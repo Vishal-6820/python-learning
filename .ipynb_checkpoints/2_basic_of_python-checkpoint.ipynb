{
 "cells": [
  {
   "cell_type": "code",
   "execution_count": 1,
   "id": "7020ea4f-9c21-43f3-9f0c-f9c04a883ea9",
   "metadata": {},
   "outputs": [
    {
     "name": "stdout",
     "output_type": "stream",
     "text": [
      "Hello\n"
     ]
    }
   ],
   "source": [
    "print(\"Hello\")"
   ]
  },
  {
   "cell_type": "code",
   "execution_count": 2,
   "id": "d57ea235-e77e-4825-bf41-149f1f848790",
   "metadata": {},
   "outputs": [
    {
     "name": "stdout",
     "output_type": "stream",
     "text": [
      "Hello2\n"
     ]
    }
   ],
   "source": [
    "# This is single line comment\n",
    "'''\n",
    "This is multiline comment\n",
    "Hi I am Vishal Parmar\n",
    "'''\n",
    "print(\"Hello2\")"
   ]
  },
  {
   "cell_type": "code",
   "execution_count": 3,
   "id": "cd11090f-c322-47e1-8eb6-066a477fd999",
   "metadata": {},
   "outputs": [
    {
     "data": {
      "text/plain": [
       "int"
      ]
     },
     "execution_count": 3,
     "metadata": {},
     "output_type": "execute_result"
    }
   ],
   "source": [
    "# Variable Declaration\n",
    "\n",
    "a =10\n",
    "type(a)"
   ]
  },
  {
   "cell_type": "code",
   "execution_count": 4,
   "id": "08aff845-0952-4315-bbde-21d8b6681996",
   "metadata": {},
   "outputs": [
    {
     "data": {
      "text/plain": [
       "10"
      ]
     },
     "execution_count": 4,
     "metadata": {},
     "output_type": "execute_result"
    }
   ],
   "source": [
    "a"
   ]
  },
  {
   "cell_type": "code",
   "execution_count": 5,
   "id": "0a9f6e5f-8368-4ccc-9885-6235ae06dd6c",
   "metadata": {},
   "outputs": [
    {
     "data": {
      "text/plain": [
       "100"
      ]
     },
     "execution_count": 5,
     "metadata": {},
     "output_type": "execute_result"
    }
   ],
   "source": [
    "a * 10"
   ]
  },
  {
   "cell_type": "code",
   "execution_count": 6,
   "id": "c0be4399-c3a8-4070-ad3d-f94e8ac0e0ee",
   "metadata": {},
   "outputs": [
    {
     "data": {
      "text/plain": [
       "0"
      ]
     },
     "execution_count": 6,
     "metadata": {},
     "output_type": "execute_result"
    }
   ],
   "source": [
    "a%10\n"
   ]
  },
  {
   "cell_type": "code",
   "execution_count": 7,
   "id": "22f3db4e-c328-414c-ac8a-3e3161a2a6b7",
   "metadata": {},
   "outputs": [
    {
     "data": {
      "text/plain": [
       "float"
      ]
     },
     "execution_count": 7,
     "metadata": {},
     "output_type": "execute_result"
    }
   ],
   "source": [
    "# Floating\n",
    "b = 190.5\n",
    "type(b)\n"
   ]
  },
  {
   "cell_type": "code",
   "execution_count": 8,
   "id": "c103eb55-c617-40be-a1f1-adf8e150d227",
   "metadata": {},
   "outputs": [
    {
     "data": {
      "text/plain": [
       "190"
      ]
     },
     "execution_count": 8,
     "metadata": {},
     "output_type": "execute_result"
    }
   ],
   "source": [
    "int(b)\n"
   ]
  },
  {
   "cell_type": "code",
   "execution_count": 10,
   "id": "ac9c053b-929e-47b6-913e-8f7b29860b26",
   "metadata": {},
   "outputs": [
    {
     "data": {
      "text/plain": [
       "10.0"
      ]
     },
     "execution_count": 10,
     "metadata": {},
     "output_type": "execute_result"
    }
   ],
   "source": [
    "float(a)"
   ]
  },
  {
   "cell_type": "code",
   "execution_count": 12,
   "id": "d84a0cb5-6dc2-4b4d-ab1a-e55365386ab0",
   "metadata": {},
   "outputs": [
    {
     "data": {
      "text/plain": [
       "bool"
      ]
     },
     "execution_count": 12,
     "metadata": {},
     "output_type": "execute_result"
    }
   ],
   "source": [
    "# Boolean\n",
    "\n",
    "a1 = True\n",
    "a2 = False\n",
    "type(a1)\n"
   ]
  },
  {
   "cell_type": "code",
   "execution_count": 13,
   "id": "5c41d866-6d56-4292-a42c-7bf72a1a9a49",
   "metadata": {},
   "outputs": [
    {
     "data": {
      "text/plain": [
       "str"
      ]
     },
     "execution_count": 13,
     "metadata": {},
     "output_type": "execute_result"
    }
   ],
   "source": [
    "# String\n",
    "first_name = \"Vishal\"\n",
    "type(first_name)"
   ]
  },
  {
   "cell_type": "code",
   "execution_count": 14,
   "id": "563263ba-2765-4d78-872a-7282e66fe6eb",
   "metadata": {},
   "outputs": [
    {
     "data": {
      "text/plain": [
       "'Hello Vishal'"
      ]
     },
     "execution_count": 14,
     "metadata": {},
     "output_type": "execute_result"
    }
   ],
   "source": [
    "  \"Hello \" + first_name"
   ]
  },
  {
   "cell_type": "code",
   "execution_count": 17,
   "id": "0f548cc0-7519-42f3-b8d6-169aeaef1a39",
   "metadata": {},
   "outputs": [],
   "source": [
    "# Dynamic Typing\n",
    "h1 = \"Hello\"\n",
    "h1 = 16"
   ]
  },
  {
   "cell_type": "code",
   "execution_count": 18,
   "id": "a675999b-158b-4c6b-a037-865c22d28556",
   "metadata": {},
   "outputs": [],
   "source": [
    "# Strong Typing\n",
    "a = \"Vishal\"\n"
   ]
  },
  {
   "cell_type": "code",
   "execution_count": 19,
   "id": "7dc15735-146f-47d1-9749-a5967b082ee4",
   "metadata": {},
   "outputs": [
    {
     "ename": "TypeError",
     "evalue": "can only concatenate str (not \"int\") to str",
     "output_type": "error",
     "traceback": [
      "\u001b[1;31m---------------------------------------------------------------------------\u001b[0m",
      "\u001b[1;31mTypeError\u001b[0m                                 Traceback (most recent call last)",
      "Cell \u001b[1;32mIn[19], line 1\u001b[0m\n\u001b[1;32m----> 1\u001b[0m a \u001b[38;5;241m+\u001b[39m \u001b[38;5;241m1\u001b[39m\n",
      "\u001b[1;31mTypeError\u001b[0m: can only concatenate str (not \"int\") to str"
     ]
    }
   ],
   "source": [
    "a + 1"
   ]
  },
  {
   "cell_type": "code",
   "execution_count": 20,
   "id": "58d9547a-23cb-4eee-b6e7-50f2e462abcd",
   "metadata": {},
   "outputs": [
    {
     "data": {
      "text/plain": [
       "'Vishal1'"
      ]
     },
     "execution_count": 20,
     "metadata": {},
     "output_type": "execute_result"
    }
   ],
   "source": [
    "a + str(1)"
   ]
  },
  {
   "cell_type": "code",
   "execution_count": 21,
   "id": "07045230-95eb-43fb-8dc3-e7f0074f0798",
   "metadata": {},
   "outputs": [],
   "source": [
    "#  String Formating\n",
    "\n",
    "a=100;\n"
   ]
  },
  {
   "cell_type": "code",
   "execution_count": 23,
   "id": "b3fd57b2-dfcb-405c-bba5-27153450d9b2",
   "metadata": {},
   "outputs": [
    {
     "name": "stdout",
     "output_type": "stream",
     "text": [
      "The value is -  100\n"
     ]
    }
   ],
   "source": [
    "print(\"The value is - \",a)"
   ]
  },
  {
   "cell_type": "code",
   "execution_count": 24,
   "id": "a977a859-454f-49cc-9fac-20ddad6e6b7a",
   "metadata": {},
   "outputs": [
    {
     "name": "stdout",
     "output_type": "stream",
     "text": [
      "My first name is Vishal and last name is Parmar\n"
     ]
    }
   ],
   "source": [
    "first_name = \"Vishal\"\n",
    "last_name = \"Parmar\"\n",
    "\n",
    "print(\"My first name is {} and last name is {}\".format(first_name, last_name))"
   ]
  },
  {
   "cell_type": "code",
   "execution_count": 25,
   "id": "e359340b-38b8-4b24-aeac-64ac54d8bd86",
   "metadata": {},
   "outputs": [
    {
     "name": "stdout",
     "output_type": "stream",
     "text": [
      "My first name is Vishal and last name is Parmar\n"
     ]
    }
   ],
   "source": [
    "print(\"My first name is {1} and last name is {0}\".format(last_name, first_name))"
   ]
  },
  {
   "cell_type": "code",
   "execution_count": 26,
   "id": "8f946eaf-2ddc-4162-8eb8-f071577a8aee",
   "metadata": {},
   "outputs": [
    {
     "name": "stdin",
     "output_type": "stream",
     "text": [
      "Enter the number a 12\n",
      "Enter the number b 23\n"
     ]
    },
    {
     "name": "stdout",
     "output_type": "stream",
     "text": [
      "1223\n"
     ]
    }
   ],
   "source": [
    "# input type\n",
    "a = input(\"Enter the number a\")\n",
    "b = input(\"Enter the number b\")\n",
    "print(a + b)"
   ]
  },
  {
   "cell_type": "code",
   "execution_count": null,
   "id": "1fd5ab57-1fdd-4864-b3f4-bab9bbca1d07",
   "metadata": {},
   "outputs": [],
   "source": [
    "# input type\n",
    "a = input(\"Enter the number a\")\n",
    "b = input(\"Enter the number b\")\n",
    "print(int(a) + int(b))\n"
   ]
  },
  {
   "cell_type": "code",
   "execution_count": null,
   "id": "a4fc791e-76bc-4df6-882a-ca537ab80946",
   "metadata": {},
   "outputs": [],
   "source": []
  }
 ],
 "metadata": {
  "kernelspec": {
   "display_name": "Python 3 (ipykernel)",
   "language": "python",
   "name": "python3"
  },
  "language_info": {
   "codemirror_mode": {
    "name": "ipython",
    "version": 3
   },
   "file_extension": ".py",
   "mimetype": "text/x-python",
   "name": "python",
   "nbconvert_exporter": "python",
   "pygments_lexer": "ipython3",
   "version": "3.13.5"
  }
 },
 "nbformat": 4,
 "nbformat_minor": 5
}
