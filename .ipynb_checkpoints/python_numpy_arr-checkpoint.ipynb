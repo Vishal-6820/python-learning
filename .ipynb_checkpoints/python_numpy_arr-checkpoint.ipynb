{
 "cells": [
  {
   "cell_type": "markdown",
   "id": "93eb923d-aa83-4c9e-a9cc-5ce82712a988",
   "metadata": {},
   "source": [
    "# Tutorial 8 - Python Numpy Array\n",
    "\n",
    "# Numpy tutorials\n",
    "\n",
    "  Numpy is general purpose array-processing package. Its provides a high-performance multi-dimentional array object, and tools for working with these arrays. It is the fundamental package for scintific computing with python\n"
   ]
  },
  {
   "cell_type": "markdown",
   "id": "f423f461-5b4e-4288-b60e-3c9f8343bd67",
   "metadata": {},
   "source": [
    "# What is an array \n",
    "\n",
    "  An array is a data structure that stores value of sample data type. In Python, this is the main difference between arrays and lists. While python lists can contains value corresponding to different data type. "
   ]
  },
  {
   "cell_type": "code",
   "execution_count": 2,
   "id": "3a2494be-d524-415d-b1aa-4f3494dc0261",
   "metadata": {},
   "outputs": [],
   "source": [
    "## import the library\n",
    "\n",
    "import numpy as np\n"
   ]
  },
  {
   "cell_type": "code",
   "execution_count": 4,
   "id": "39a54fc3-dccd-4608-8f48-6dc966f92af8",
   "metadata": {},
   "outputs": [],
   "source": [
    "lst = [1,2,3,4]\n",
    "arr = np.array(lst)"
   ]
  },
  {
   "cell_type": "code",
   "execution_count": 5,
   "id": "377c4d89-ae1b-4a97-9cf1-8acad894ae1d",
   "metadata": {},
   "outputs": [
    {
     "data": {
      "text/plain": [
       "numpy.ndarray"
      ]
     },
     "execution_count": 5,
     "metadata": {},
     "output_type": "execute_result"
    }
   ],
   "source": [
    "type(arr)"
   ]
  },
  {
   "cell_type": "code",
   "execution_count": 8,
   "id": "cf4b8034-6dd8-47e9-907d-6befec962672",
   "metadata": {},
   "outputs": [],
   "source": [
    "lst1 = [1,2,3,4,5]\n",
    "lst2 = [2,3,4,5,6]\n",
    "lst3 = [3,4,5,6,7]"
   ]
  },
  {
   "cell_type": "code",
   "execution_count": 13,
   "id": "160600b6-56fc-4abe-be0d-2b5208173751",
   "metadata": {},
   "outputs": [
    {
     "data": {
      "text/plain": [
       "(3, 5)"
      ]
     },
     "execution_count": 13,
     "metadata": {},
     "output_type": "execute_result"
    }
   ],
   "source": [
    "arr1 = np.array([lst1,lst2,lst3])\n",
    "arr1.shape\n"
   ]
  },
  {
   "cell_type": "code",
   "execution_count": 12,
   "id": "2369a90a-0a43-4dee-abdb-1ad624db6d7c",
   "metadata": {},
   "outputs": [
    {
     "ename": "NameError",
     "evalue": "name 'arr1' is not defined",
     "output_type": "error",
     "traceback": [
      "\u001b[1;31m---------------------------------------------------------------------------\u001b[0m",
      "\u001b[1;31mNameError\u001b[0m                                 Traceback (most recent call last)",
      "Cell \u001b[1;32mIn[12], line 1\u001b[0m\n\u001b[1;32m----> 1\u001b[0m arr1\u001b[38;5;241m.\u001b[39mshape\n",
      "\u001b[1;31mNameError\u001b[0m: name 'arr1' is not defined"
     ]
    }
   ],
   "source": []
  },
  {
   "cell_type": "code",
   "execution_count": null,
   "id": "ebccba01-3d6e-4f93-9020-30aa7a963eeb",
   "metadata": {},
   "outputs": [],
   "source": []
  }
 ],
 "metadata": {
  "kernelspec": {
   "display_name": "Python [conda env:base] *",
   "language": "python",
   "name": "conda-base-py"
  },
  "language_info": {
   "codemirror_mode": {
    "name": "ipython",
    "version": 3
   },
   "file_extension": ".py",
   "mimetype": "text/x-python",
   "name": "python",
   "nbconvert_exporter": "python",
   "pygments_lexer": "ipython3",
   "version": "3.13.5"
  },
  "widgets": {
   "application/vnd.jupyter.widget-state+json": {
    "state": {},
    "version_major": 2,
    "version_minor": 0
   }
  }
 },
 "nbformat": 4,
 "nbformat_minor": 5
}
