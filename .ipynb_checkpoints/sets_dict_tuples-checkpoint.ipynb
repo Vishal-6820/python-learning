{
 "cells": [
  {
   "cell_type": "markdown",
   "id": "e9f82678-bc54-40eb-ae7c-d9071f633e27",
   "metadata": {},
   "source": [
    "##sets\n",
    "A set is an unordered collection data type that is iterate, mutable, and has no duplicate elements.\n",
    "python's set class represents the mathemetical notion of a set. This is based on a data structure known as hash table."
   ]
  },
  {
   "cell_type": "raw",
   "id": "d93a4c83-c5b5-4ee9-a90e-08e06eeb7294",
   "metadata": {},
   "source": [
    "type({1,2,3,4})\n",
    "print(set([1,2,3,4,5]))"
   ]
  },
  {
   "cell_type": "code",
   "execution_count": 8,
   "id": "77c4ae1a-baba-495e-adaf-70e83426900a",
   "metadata": {},
   "outputs": [
    {
     "name": "stdout",
     "output_type": "stream",
     "text": [
      "set()\n",
      "<class 'set'>\n"
     ]
    }
   ],
   "source": [
    "# define and empty set\n",
    "\n",
    "set_var = set();\n",
    "print(set_var)\n",
    "print(type(set_var))"
   ]
  },
  {
   "cell_type": "code",
   "execution_count": 9,
   "id": "d1c21451-ad1e-4e3d-8b02-5564aaf9e45e",
   "metadata": {},
   "outputs": [
    {
     "name": "stdout",
     "output_type": "stream",
     "text": [
      "{'Avengers', 'ironman', 'Hitman'}\n"
     ]
    }
   ],
   "source": [
    "set_var = {\"Avengers\", \"ironman\", \"Hitman\"}\n",
    "print(set_var)"
   ]
  },
  {
   "cell_type": "code",
   "execution_count": 13,
   "id": "acf19e7f-7fcd-487a-8506-7b4c63e85e9f",
   "metadata": {},
   "outputs": [],
   "source": [
    "# set_var[1]"
   ]
  },
  {
   "cell_type": "code",
   "execution_count": 16,
   "id": "4faf11b4-17cc-49fd-80d3-6474a14f9a20",
   "metadata": {},
   "outputs": [
    {
     "name": "stdout",
     "output_type": "stream",
     "text": [
      "Avengers\n",
      "ironman\n",
      "Hitman\n"
     ]
    }
   ],
   "source": [
    "for i in set_var:\n",
    "    print(i)"
   ]
  },
  {
   "cell_type": "code",
   "execution_count": 18,
   "id": "dd4f2838-2fed-4b01-b057-0923029e7f87",
   "metadata": {},
   "outputs": [
    {
     "name": "stdout",
     "output_type": "stream",
     "text": [
      "{'Vishal', 'Avengers', 'ironman', 'Hitman'}\n"
     ]
    }
   ],
   "source": [
    "set_var.add(\"Vishal\")\n",
    "print(set_var) #sorting added automatically (sorting orders)"
   ]
  },
  {
   "cell_type": "code",
   "execution_count": 19,
   "id": "7ecac770-94e7-4133-bf75-c14abf34467b",
   "metadata": {},
   "outputs": [],
   "source": [
    "set1 = {\"Avengers\", \"ironman\", \"Hitman\"}\n",
    "set2 = {\"Avengers\", \"ironman\", \"Hitman\", \"Hulk\"}\n"
   ]
  },
  {
   "cell_type": "code",
   "execution_count": 20,
   "id": "0ae75efe-79e1-4605-9399-0245b020ec70",
   "metadata": {},
   "outputs": [
    {
     "data": {
      "text/plain": [
       "{'Avengers', 'Hitman', 'ironman'}"
      ]
     },
     "execution_count": 20,
     "metadata": {},
     "output_type": "execute_result"
    }
   ],
   "source": [
    "set2.intersection(set1)"
   ]
  },
  {
   "cell_type": "code",
   "execution_count": 21,
   "id": "4d084c4c-7c45-4cc1-a0f2-88981017301a",
   "metadata": {},
   "outputs": [
    {
     "data": {
      "text/plain": [
       "{'Hulk'}"
      ]
     },
     "execution_count": 21,
     "metadata": {},
     "output_type": "execute_result"
    }
   ],
   "source": [
    "set2.difference(set1)"
   ]
  },
  {
   "cell_type": "markdown",
   "id": "16da3706-96ac-4602-b8a0-b6020d58f9b5",
   "metadata": {},
   "source": [
    "# Dictionaries\n",
    "A dictionaries is a collection which is unordered, changeble and indexed. In python dictionaries are written with curly brackets, and they have key and values."
   ]
  },
  {
   "cell_type": "code",
   "execution_count": 22,
   "id": "f19e9840-fd6b-40e1-81da-61e03d197257",
   "metadata": {},
   "outputs": [
    {
     "data": {
      "text/plain": [
       "dict"
      ]
     },
     "execution_count": 22,
     "metadata": {},
     "output_type": "execute_result"
    }
   ],
   "source": [
    "type({1:\"Vishal\"})"
   ]
  },
  {
   "cell_type": "code",
   "execution_count": 24,
   "id": "2162d48c-a0ad-4b56-a50c-ca581232e4b3",
   "metadata": {},
   "outputs": [
    {
     "data": {
      "text/plain": [
       "dict"
      ]
     },
     "execution_count": 24,
     "metadata": {},
     "output_type": "execute_result"
    }
   ],
   "source": [
    "type(dict())"
   ]
  },
  {
   "cell_type": "code",
   "execution_count": 26,
   "id": "6e4268e4-d006-4bfb-bf99-166be3605df0",
   "metadata": {},
   "outputs": [
    {
     "data": {
      "text/plain": [
       "{'name': 'Vishal', 'age': '12'}"
      ]
     },
     "execution_count": 26,
     "metadata": {},
     "output_type": "execute_result"
    }
   ],
   "source": [
    "dict(name=\"Vishal\", age=\"12\")"
   ]
  },
  {
   "cell_type": "code",
   "execution_count": 27,
   "id": "eb33ff57-d564-4d9d-a61a-1a5c1915f34b",
   "metadata": {},
   "outputs": [
    {
     "data": {
      "text/plain": [
       "dict"
      ]
     },
     "execution_count": 27,
     "metadata": {},
     "output_type": "execute_result"
    }
   ],
   "source": [
    "# lets create dictionary\n",
    "my_dict = {\"car1\":\"Audi\",\"car2\":\"BMW\",\"car3\":\"Toyota\"}\n",
    "type(my_dict)"
   ]
  },
  {
   "cell_type": "code",
   "execution_count": 30,
   "id": "11f93759-5e97-4c81-96fa-fdffb37d19e2",
   "metadata": {},
   "outputs": [
    {
     "data": {
      "text/plain": [
       "'Audi'"
      ]
     },
     "execution_count": 30,
     "metadata": {},
     "output_type": "execute_result"
    }
   ],
   "source": [
    "my_dict[\"car1\"]"
   ]
  },
  {
   "cell_type": "markdown",
   "id": "3d3cdc24-21b5-4da5-98ca-a6338e716684",
   "metadata": {},
   "source": [
    "# Nested Dictionaries\n"
   ]
  },
  {
   "cell_type": "code",
   "execution_count": 31,
   "id": "e67f1a5e-a834-4580-b03b-6ec59c7f2dee",
   "metadata": {},
   "outputs": [],
   "source": [
    "car1_model ={\"marcedes\":1998}\n",
    "car2_model ={\"audi\":1970}\n",
    "car3_model ={\"Ambassador\":1980}\n",
    "\n",
    "car_type = {'car1':car1_model, 'car2':car2_model, 'car3':car3_model}"
   ]
  },
  {
   "cell_type": "code",
   "execution_count": 32,
   "id": "04eb7aba-1149-42e7-8d1b-9e555a30cdf8",
   "metadata": {},
   "outputs": [
    {
     "name": "stdout",
     "output_type": "stream",
     "text": [
      "{'car1': {'marcedes': 1998}, 'car2': {'audi': 1970}, 'car3': {'Ambassador': 1980}}\n"
     ]
    }
   ],
   "source": [
    "print(car_type)"
   ]
  },
  {
   "cell_type": "markdown",
   "id": "5fb1f4e8-0862-44cf-ae34-609ff47dd31b",
   "metadata": {},
   "source": [
    "# Tuples\n"
   ]
  },
  {
   "cell_type": "code",
   "execution_count": 33,
   "id": "9c574a40-62db-4c1a-b2cd-31eb3c4a1d31",
   "metadata": {},
   "outputs": [
    {
     "data": {
      "text/plain": [
       "tuple"
      ]
     },
     "execution_count": 33,
     "metadata": {},
     "output_type": "execute_result"
    }
   ],
   "source": [
    "# Create empty tuples\n",
    "\n",
    "my_tuple = tuple()\n",
    "type(my_tuple)"
   ]
  },
  {
   "cell_type": "code",
   "execution_count": 34,
   "id": "0ed8717d-d85b-452d-b8b1-30cc2790d013",
   "metadata": {},
   "outputs": [],
   "source": [
    "my_tuple = (\"Krish\", \"Ankur\", \"John\")\n"
   ]
  },
  {
   "cell_type": "code",
   "execution_count": 35,
   "id": "3e7512a4-d8b2-4488-8427-793e3bebf4cf",
   "metadata": {},
   "outputs": [],
   "source": [
    "my_tuple = (\"Hello\", \"World\")"
   ]
  },
  {
   "cell_type": "code",
   "execution_count": 37,
   "id": "79128f99-6f96-4b19-98ed-715ddaa32e75",
   "metadata": {},
   "outputs": [
    {
     "name": "stdout",
     "output_type": "stream",
     "text": [
      "<class 'tuple'>\n",
      "('Hello', 'World')\n"
     ]
    }
   ],
   "source": [
    "print(type(my_tuple))\n",
    "print(my_tuple)"
   ]
  },
  {
   "cell_type": "code",
   "execution_count": null,
   "id": "569e4918-f577-461d-bd13-fada7ce6c472",
   "metadata": {},
   "outputs": [],
   "source": []
  }
 ],
 "metadata": {
  "kernelspec": {
   "display_name": "Python [conda env:base] *",
   "language": "python",
   "name": "conda-base-py"
  },
  "language_info": {
   "codemirror_mode": {
    "name": "ipython",
    "version": 3
   },
   "file_extension": ".py",
   "mimetype": "text/x-python",
   "name": "python",
   "nbconvert_exporter": "python",
   "pygments_lexer": "ipython3",
   "version": "3.13.5"
  },
  "widgets": {
   "application/vnd.jupyter.widget-state+json": {
    "state": {},
    "version_major": 2,
    "version_minor": 0
   }
  }
 },
 "nbformat": 4,
 "nbformat_minor": 5
}
