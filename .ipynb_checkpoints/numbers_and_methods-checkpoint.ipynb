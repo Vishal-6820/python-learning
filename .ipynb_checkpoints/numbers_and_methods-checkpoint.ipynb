{
 "cells": [
  {
   "cell_type": "code",
   "execution_count": 1,
   "id": "56fb892f-8912-437e-b4e9-54017f3c256a",
   "metadata": {},
   "outputs": [],
   "source": [
    "import math\n"
   ]
  },
  {
   "cell_type": "code",
   "execution_count": 2,
   "id": "b1f90f93-1110-4ee2-b5f2-734476d2f932",
   "metadata": {},
   "outputs": [
    {
     "data": {
      "text/plain": [
       "44"
      ]
     },
     "execution_count": 2,
     "metadata": {},
     "output_type": "execute_result"
    }
   ],
   "source": [
    "math.ceil(43.67)"
   ]
  },
  {
   "cell_type": "code",
   "execution_count": 3,
   "id": "5599c26a-4850-46e5-a9f1-6ea3367a127f",
   "metadata": {},
   "outputs": [
    {
     "data": {
      "text/plain": [
       "43"
      ]
     },
     "execution_count": 3,
     "metadata": {},
     "output_type": "execute_result"
    }
   ],
   "source": [
    "math.ceil(42.1\n",
    "         )"
   ]
  },
  {
   "cell_type": "code",
   "execution_count": 4,
   "id": "a2deefa4-6948-43bc-8c40-a6d34bfca4fa",
   "metadata": {},
   "outputs": [
    {
     "data": {
      "text/plain": [
       "-45"
      ]
     },
     "execution_count": 4,
     "metadata": {},
     "output_type": "execute_result"
    }
   ],
   "source": [
    "math.ceil(-45.5)"
   ]
  },
  {
   "cell_type": "code",
   "execution_count": 5,
   "id": "4c3d6dbc-36f6-4bbd-b637-b5ed1e8d2214",
   "metadata": {},
   "outputs": [
    {
     "data": {
      "text/plain": [
       "44"
      ]
     },
     "execution_count": 5,
     "metadata": {},
     "output_type": "execute_result"
    }
   ],
   "source": [
    "math.floor(44.9)"
   ]
  },
  {
   "cell_type": "code",
   "execution_count": 6,
   "id": "1e828ccd-92ca-4aa8-8381-a0f7ee2a11d9",
   "metadata": {},
   "outputs": [],
   "source": [
    "# Exponential fun"
   ]
  },
  {
   "cell_type": "code",
   "execution_count": 7,
   "id": "4146e2f2-b8cc-4593-814a-3bb78ce28e38",
   "metadata": {},
   "outputs": [],
   "source": [
    "# log()"
   ]
  },
  {
   "cell_type": "markdown",
   "id": "287ccdfb-ea98-4a93-a85a-bada3f296b36",
   "metadata": {},
   "source": [
    "##Trignomatric functions\n"
   ]
  },
  {
   "cell_type": "code",
   "execution_count": null,
   "id": "3dffbb0a-903f-48c4-a9cd-d96d310f091d",
   "metadata": {},
   "outputs": [],
   "source": []
  }
 ],
 "metadata": {
  "kernelspec": {
   "display_name": "Python [conda env:base] *",
   "language": "python",
   "name": "conda-base-py"
  },
  "language_info": {
   "codemirror_mode": {
    "name": "ipython",
    "version": 3
   },
   "file_extension": ".py",
   "mimetype": "text/x-python",
   "name": "python",
   "nbconvert_exporter": "python",
   "pygments_lexer": "ipython3",
   "version": "3.13.5"
  },
  "widgets": {
   "application/vnd.jupyter.widget-state+json": {
    "state": {},
    "version_major": 2,
    "version_minor": 0
   }
  }
 },
 "nbformat": 4,
 "nbformat_minor": 5
}
