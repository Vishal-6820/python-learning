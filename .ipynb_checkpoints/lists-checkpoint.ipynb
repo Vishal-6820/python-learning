{
 "cells": [
  {
   "cell_type": "markdown",
   "id": "aecfb089-0f94-4da7-92d8-61551ecf72af",
   "metadata": {},
   "source": [
    " # Lists\n",
    "A List is a data structure in python tha is mutable, or changeable, ordered sequenace of elements. Each elements or value that is inside of list is called an item. Just as strings ae define as characters between quotes, lists are defined by having values between square brackets[].\n"
   ]
  },
  {
   "cell_type": "code",
   "execution_count": 1,
   "id": "22a6d530-33c6-4272-a036-be96972347ca",
   "metadata": {},
   "outputs": [
    {
     "name": "stdout",
     "output_type": "stream",
     "text": [
      "Vishal\n"
     ]
    },
    {
     "data": {
      "text/plain": [
       "str"
      ]
     },
     "execution_count": 1,
     "metadata": {},
     "output_type": "execute_result"
    }
   ],
   "source": [
    "# Mutable vs unmutable\n",
    "str1 = \"Vishal\"\n",
    "print(str1)\n",
    "type(str1)"
   ]
  },
  {
   "cell_type": "code",
   "execution_count": 9,
   "id": "0af25c99-5015-4fe9-a763-912a1f35d9e2",
   "metadata": {},
   "outputs": [
    {
     "name": "stdout",
     "output_type": "stream",
     "text": [
      "o\n"
     ]
    },
    {
     "ename": "TypeError",
     "evalue": "'type' object does not support item assignment",
     "output_type": "error",
     "traceback": [
      "\u001b[1;31m---------------------------------------------------------------------------\u001b[0m",
      "\u001b[1;31mTypeError\u001b[0m                                 Traceback (most recent call last)",
      "Cell \u001b[1;32mIn[9], line 4\u001b[0m\n\u001b[0;32m      2\u001b[0m str1 \u001b[38;5;241m=\u001b[39m \u001b[38;5;124m\"\u001b[39m\u001b[38;5;124mHello\u001b[39m\u001b[38;5;124m\"\u001b[39m\n\u001b[0;32m      3\u001b[0m \u001b[38;5;28mprint\u001b[39m(str1[\u001b[38;5;241m4\u001b[39m])\n\u001b[1;32m----> 4\u001b[0m \u001b[38;5;28mstr\u001b[39m[\u001b[38;5;241m4\u001b[39m] \u001b[38;5;241m=\u001b[39m \u001b[38;5;124m'\u001b[39m\u001b[38;5;124mh\u001b[39m\u001b[38;5;124m'\u001b[39m\n",
      "\u001b[1;31mTypeError\u001b[0m: 'type' object does not support item assignment"
     ]
    }
   ],
   "source": [
    "# string are immutable \n",
    "str1 = \"Hello\"\n",
    "print(str1[4])\n",
    "# str[4] = 'h'\n"
   ]
  },
  {
   "cell_type": "code",
   "execution_count": 12,
   "id": "7597af92-f011-4d97-ac14-f1e3c3cd9b21",
   "metadata": {},
   "outputs": [
    {
     "name": "stdout",
     "output_type": "stream",
     "text": [
      "[1, 2, 3, 4, 'Vishal']\n",
      "Vishal\n"
     ]
    }
   ],
   "source": [
    "# Lists\n",
    "# Mutable\n",
    "lst = [1,2,3,4,\"Vishal\"]\n",
    "\n",
    "print(lst)\n",
    "print(lst[4])\n",
    "\n"
   ]
  },
  {
   "cell_type": "code",
   "execution_count": 28,
   "id": "d77a1ad9-74dd-488e-a171-e8985a1d9739",
   "metadata": {},
   "outputs": [
    {
     "name": "stdout",
     "output_type": "stream",
     "text": [
      "[1, 2, 3, 4, 5]\n",
      "5\n"
     ]
    },
    {
     "data": {
      "text/plain": [
       "[1, 2, 3, 4, 5, 'Parmar', ['hello', 'man']]"
      ]
     },
     "execution_count": 28,
     "metadata": {},
     "output_type": "execute_result"
    }
   ],
   "source": [
    "lst = list({1,2,3,4,5})\n",
    "type(lst)\n",
    "print(lst) \n",
    "len(lst)\n",
    "print(max(lst))\n",
    "lst.append(\"Parmar\")\n",
    "lst.append([\"hello\",\"man\"])\n",
    "lst"
   ]
  },
  {
   "cell_type": "code",
   "execution_count": 33,
   "id": "a7cf65b8-2854-4a89-9b62-7854c62bed8b",
   "metadata": {},
   "outputs": [
    {
     "data": {
      "text/plain": [
       "[3, 4]"
      ]
     },
     "execution_count": 33,
     "metadata": {},
     "output_type": "execute_result"
    }
   ],
   "source": [
    "# lst[6][1]\n",
    "lst[2:4]"
   ]
  },
  {
   "cell_type": "code",
   "execution_count": 36,
   "id": "71b5295e-4a4c-4909-9e3d-acfef64eabac",
   "metadata": {},
   "outputs": [
    {
     "name": "stdout",
     "output_type": "stream",
     "text": [
      "[1, 'Oppo', 'Oppo', 'Oppo', 2, 3, 4, 5, 'Parmar', ['hello', 'man']]\n"
     ]
    }
   ],
   "source": [
    "# insert\n",
    "# insert a specific order\n",
    "lst.insert(1,\"Oppo\")\n",
    "\n",
    "\n",
    "print(lst)\n"
   ]
  },
  {
   "cell_type": "code",
   "execution_count": 37,
   "id": "04da2383-a386-4fe8-8c5d-ccda0312d182",
   "metadata": {},
   "outputs": [
    {
     "name": "stdout",
     "output_type": "stream",
     "text": [
      "[1, 2, 3, 4, 5, 6, 8, 9]\n"
     ]
    }
   ],
   "source": [
    "# extend methods\n",
    "lst1 = [1,2,3,4,5,6]\n",
    "lst1.extend([8,9])\n",
    "print(lst1)\n"
   ]
  },
  {
   "cell_type": "code",
   "execution_count": 39,
   "id": "27d152e3-8667-48ca-8295-3deb2040e34b",
   "metadata": {},
   "outputs": [
    {
     "data": {
      "text/plain": [
       "38"
      ]
     },
     "execution_count": 39,
     "metadata": {},
     "output_type": "execute_result"
    }
   ],
   "source": [
    "sum(lst1)"
   ]
  },
  {
   "cell_type": "code",
   "execution_count": 40,
   "id": "a550a2a2-e484-4c06-95a1-7b4c2e5cd1eb",
   "metadata": {},
   "outputs": [
    {
     "data": {
      "text/plain": [
       "2"
      ]
     },
     "execution_count": 40,
     "metadata": {},
     "output_type": "execute_result"
    }
   ],
   "source": [
    "lst1.pop(1)"
   ]
  },
  {
   "cell_type": "code",
   "execution_count": 41,
   "id": "85859b20-679b-4240-b9e5-56692867d402",
   "metadata": {},
   "outputs": [
    {
     "name": "stdout",
     "output_type": "stream",
     "text": [
      "[1, 3, 4, 5, 6, 8, 9]\n"
     ]
    }
   ],
   "source": [
    "print(lst1)"
   ]
  },
  {
   "cell_type": "code",
   "execution_count": 42,
   "id": "5e96a8b8-3b87-447b-858b-837db24fa487",
   "metadata": {},
   "outputs": [
    {
     "ename": "TypeError",
     "evalue": "list.count() takes exactly one argument (0 given)",
     "output_type": "error",
     "traceback": [
      "\u001b[1;31m---------------------------------------------------------------------------\u001b[0m",
      "\u001b[1;31mTypeError\u001b[0m                                 Traceback (most recent call last)",
      "Cell \u001b[1;32mIn[42], line 1\u001b[0m\n\u001b[1;32m----> 1\u001b[0m lst1\u001b[38;5;241m.\u001b[39mcount()\n",
      "\u001b[1;31mTypeError\u001b[0m: list.count() takes exactly one argument (0 given)"
     ]
    }
   ],
   "source": [
    "# lst1.count()"
   ]
  },
  {
   "cell_type": "code",
   "execution_count": null,
   "id": "808b6c15-345d-45e0-9a76-a679e761a3f1",
   "metadata": {},
   "outputs": [],
   "source": []
  }
 ],
 "metadata": {
  "kernelspec": {
   "display_name": "Python [conda env:base] *",
   "language": "python",
   "name": "conda-base-py"
  },
  "language_info": {
   "codemirror_mode": {
    "name": "ipython",
    "version": 3
   },
   "file_extension": ".py",
   "mimetype": "text/x-python",
   "name": "python",
   "nbconvert_exporter": "python",
   "pygments_lexer": "ipython3",
   "version": "3.13.5"
  },
  "widgets": {
   "application/vnd.jupyter.widget-state+json": {
    "state": {},
    "version_major": 2,
    "version_minor": 0
   }
  }
 },
 "nbformat": 4,
 "nbformat_minor": 5
}
