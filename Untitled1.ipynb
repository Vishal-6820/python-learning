{
 "cells": [
  {
   "cell_type": "code",
   "execution_count": null,
   "id": "8649c4f9-b17c-45c4-ba7a-96c5f66104af",
   "metadata": {},
   "outputs": [],
   "source": []
  }
 ],
 "metadata": {
  "kernelspec": {
   "display_name": "",
   "name": ""
  },
  "language_info": {
   "name": ""
  }
 },
 "nbformat": 4,
 "nbformat_minor": 5
}
